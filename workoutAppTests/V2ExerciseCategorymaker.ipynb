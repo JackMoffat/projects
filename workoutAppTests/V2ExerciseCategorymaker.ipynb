{
 "cells": [
  {
   "cell_type": "code",
   "execution_count": 9,
   "metadata": {},
   "outputs": [],
   "source": [
    "\n",
    "import numpy as np\n",
    "import csv"
   ]
  },
  {
   "cell_type": "code",
   "execution_count": 293,
   "metadata": {},
   "outputs": [],
   "source": [
    "class Ex:\n",
    "    \n",
    "    def __init__(self):\n",
    "        \"\"\"\n",
    "        This part creates the object attribute csv_list, which holds the whole contents of the csv file\n",
    "        for use by later functions\n",
    "        \"\"\"\n",
    "        csv_list = []\n",
    "        with open('ExerciseListSheetForPython.csv') as csv_file:\n",
    "            csv_reader = csv.reader(csv_file,delimiter = ',')\n",
    "            for row in csv_reader:\n",
    "                csv_list.append(row)\n",
    "        Ex.csv_list = csv_list\n",
    "        \n",
    "    def add_groups(self):\n",
    "    #-----adds named groups of exercises to list-----#\n",
    "        x = MainParamsByWeek\n",
    "        weeks = []\n",
    "        for i in dir(x):\n",
    "            if i[0].isalpha():\n",
    "                weeks.append(i) \n",
    "        Wave.weeks = weeks\n",
    "\n",
    "        for i in range(len(self.weeks)):\n",
    "            key = 'week' + str(i) #relic of initially having all weeks to come defined as week0,week1 etc\n",
    "            val = Wave.weeks[i]\n",
    "            setattr(self,val,Week(self,val))\n",
    "\n",
    "    def Group_Builder(self):\n",
    "        \"\"\"\n",
    "        Part A prepares the csv input file into a list ready for processing\n",
    "            -finds the names of categories/groups in header rows and applies them to all subsequent exercises\n",
    "            -removes empty rows and header rows to make file easier to process in ls_new\n",
    "        \n",
    "        Part B turns each category/group name into attributes of the Ex object.\n",
    "        \"\"\"\n",
    "        #--- Part A ------------------\n",
    "        \n",
    "        ls = Ex.csv_list\n",
    "        ls_new = []\n",
    "        self.namelist = []\n",
    "        cat_name = \"\"\n",
    "        for i in ls:\n",
    "            if i[1] != \"\": #remove plain empty rows; blanket for all\n",
    "                if i[0] != \"\": #select for group names: only rows with a group name will have j[0]!=\"\"\n",
    "                    cat_name = i[0]\n",
    "                    self.namelist.append(cat_name)\n",
    "                    setattr(self,cat_name,Exercise)\n",
    "                    \n",
    "                    \n",
    "                \n",
    "                i[0] = cat_name #Transfers cat_name to the rows that have exercises\n",
    "                if i[1] != 'Exercise':\n",
    "                    ls_new.append(i)\n",
    "\n",
    "        #-------Part B--------------------------\n",
    "        \n",
    "        i=0\n",
    "        exlist = []\n",
    "        while i < len(ls_new):\n",
    "            if i == 0:\n",
    "                exlist.append(ls_new[i][1:3])\n",
    "                i += 1\n",
    "            \n",
    "            elif ls_new[i][0] == ls_new[i-1][0]:\n",
    "                exlist.append(ls_new[i][1:3])\n",
    "                                \n",
    "            else:\n",
    "#                 for exercise in exlist:\n",
    "#                     exercise = \n",
    "                \n",
    "                setattr(self,ls_new[i-1][0],exlist)\n",
    "                exlist = []\n",
    "                exlist.append(ls_new[i][1:3])\n",
    "               \n",
    "               \n",
    "            i += 1\n",
    "    \n",
    "\n",
    "class ExerciseGroup(Ex):\n",
    "    \n",
    "    def __init__(self,Ex,name):\n",
    "        \n",
    "        self.ex = Ex\n",
    "        self.name = name \n",
    "        self.exlists = [\"test\"]\n",
    "        \n",
    "class Exercise:\n",
    "    \n",
    "    def __init__(self, in_name = \"None\", in_vidlink = \"\"):\n",
    "        \n",
    "        self.name = in_name\n",
    "        self.vidlink = in_vidlink"
   ]
  },
  {
   "cell_type": "code",
   "execution_count": 292,
   "metadata": {},
   "outputs": [
    {
     "data": {
      "text/plain": [
       "[['Machine Crunch', 'https://youtu.be/GWeVF2aVk8g'],\n",
       " ['Reaching Sit-Up', 'https://youtu.be/ENaZCLrz8_c'],\n",
       " ['V-Up', 'https://youtu.be/vz97voWk3jU'],\n",
       " ['Modified Candlestick', 'https://youtu.be/sPIBL43Ds48'],\n",
       " ['Hanging Knee Raise', 'https://youtu.be/dmwMfjPQIP8'],\n",
       " ['Hanging Strait Leg Raise', 'https://youtu.be/5p-vP_XyNaA']]"
      ]
     },
     "execution_count": 292,
     "metadata": {},
     "output_type": "execute_result"
    }
   ],
   "source": [
    "E = Ex()\n",
    "E.Group_Builder()\n",
    "E.Abs\n",
    "\n",
    "\n",
    "#Currently, categires like abs are coming back as lists of strings. \n",
    "#the goal is to have them as exercisegroup objects, with exercises inside\n",
    "#but to do this they have to first be Egroup objects and have the information assigned to their exlists list!\n",
    "\n",
    "\n"
   ]
  },
  {
   "cell_type": "code",
   "execution_count": null,
   "metadata": {},
   "outputs": [],
   "source": []
  }
 ],
 "metadata": {
  "kernelspec": {
   "display_name": "Python 3",
   "language": "python",
   "name": "python3"
  },
  "language_info": {
   "codemirror_mode": {
    "name": "ipython",
    "version": 3
   },
   "file_extension": ".py",
   "mimetype": "text/x-python",
   "name": "python",
   "nbconvert_exporter": "python",
   "pygments_lexer": "ipython3",
   "version": "3.6.6"
  }
 },
 "nbformat": 4,
 "nbformat_minor": 2
}

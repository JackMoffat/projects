{
 "cells": [
  {
   "cell_type": "code",
   "execution_count": 1,
   "metadata": {},
   "outputs": [],
   "source": [
    "#\n",
    "'''\n",
    "\n",
    "Ok, so goals for this one are to have it so that exercise classes are stored as objects\n",
    "So, make the class. then setattr on the first 3 columns when there are blanks before\n",
    "to set the names of the attributes\n",
    "\n",
    "Not sure exactly how to do the whole dynamic variable naming thing again. to have the dynamic category names could be accomplished by holding them all inside\n",
    "    a bigger class called exercises or something.\n",
    "\n",
    "'''\n",
    "import numpy as np\n",
    "import csv"
   ]
  },
  {
   "cell_type": "code",
   "execution_count": 2,
   "metadata": {},
   "outputs": [],
   "source": [
    "class Ex:\n",
    "    \n",
    "    def __init__(self):\n",
    "        \"\"\"\n",
    "        This part creates the object attribute csv_list, which holds the whole contents of the csv file\n",
    "        for use by later functions\n",
    "        \"\"\"\n",
    "        csv_list = []\n",
    "        with open('ExerciseListSheetForPython.csv') as csv_file:\n",
    "            csv_reader = csv.reader(csv_file,delimiter = ',')\n",
    "            for row in csv_reader:\n",
    "                csv_list.append(row)\n",
    "        Ex.csv_list = csv_list\n",
    "        \n",
    "    def add_groups(self):\n",
    "    #-----adds named groups of exercises to list-----#\n",
    "        x = MainParamsByWeek\n",
    "        weeks = []\n",
    "        for i in dir(x):\n",
    "            if i[0].isalpha():\n",
    "                weeks.append(i) \n",
    "        Wave.weeks = weeks\n",
    "\n",
    "        for i in range(len(self.weeks)):\n",
    "            key = 'week' + str(i) #relic of initially having all weeks to come defined as week0,week1 etc\n",
    "            val = Wave.weeks[i]\n",
    "            setattr(self,val,Week(self,val))\n",
    "\n",
    "    def Group_Builder(self):\n",
    "        \"\"\"\n",
    "        Part A builds list of distinct group/category names which are assigned as the object.groups\n",
    "        part B changes the initial blank of each csv row into the category name, and\n",
    "        \"\"\"\n",
    "        newx = np.array(Ex.csv_list)\n",
    "        #A\n",
    "        ls_cats = [] \n",
    "        exlist = []\n",
    "        for i in newx:\n",
    "            if i[0] != \"\":\n",
    "                cat_name = i[0]\n",
    "                ls_cats.append(cat_name)\n",
    "                #print(cat_name,\"cat_name\")\n",
    "                setattr(self,cat_name,[])\n",
    "                \n",
    "            #here, the exercises are assigned correct name\n",
    "            i[0] = cat_name \n",
    "            #This line selects for \n",
    "            if i[1] != \"\" and i[1] != 'Exercise':\n",
    "                x = Exercise(i[1],i[2])\n",
    "                exlist.append(x)\n",
    "        print(exlist,\"exlist\")                \n",
    "                \n",
    "        Ex.groups = ls_cats\n",
    "            \n",
    "    \n",
    "\n",
    "class ExerciseGroup:\n",
    "    \n",
    "    def __init__(self,name):\n",
    "        \n",
    "        self.name = name \n",
    "        self.exlist = []\n",
    "        \n",
    "class Exercise:\n",
    "    \n",
    "    def __init__(self, in_name = \"None\", in_vidlink = \"\"):\n",
    "        \n",
    "        self.name = in_name\n",
    "        self.vidlink = in_vidlink"
   ]
  },
  {
   "cell_type": "code",
   "execution_count": 5,
   "metadata": {},
   "outputs": [
    {
     "data": {
      "text/plain": [
       "[]"
      ]
     },
     "execution_count": 5,
     "metadata": {},
     "output_type": "execute_result"
    }
   ],
   "source": [
    "E =  Ex()\n",
    "E.Group_Builder()\n",
    "\n",
    "E.Abs"
   ]
  },
  {
   "cell_type": "code",
   "execution_count": null,
   "metadata": {},
   "outputs": [],
   "source": []
  },
  {
   "cell_type": "code",
   "execution_count": null,
   "metadata": {},
   "outputs": [],
   "source": []
  },
  {
   "cell_type": "code",
   "execution_count": null,
   "metadata": {},
   "outputs": [],
   "source": []
  },
  {
   "cell_type": "code",
   "execution_count": null,
   "metadata": {},
   "outputs": [],
   "source": []
  }
 ],
 "metadata": {
  "kernelspec": {
   "display_name": "Python 3",
   "language": "python",
   "name": "python3"
  },
  "language_info": {
   "codemirror_mode": {
    "name": "ipython",
    "version": 3
   },
   "file_extension": ".py",
   "mimetype": "text/x-python",
   "name": "python",
   "nbconvert_exporter": "python",
   "pygments_lexer": "ipython3",
   "version": "3.6.6"
  }
 },
 "nbformat": 4,
 "nbformat_minor": 2
}

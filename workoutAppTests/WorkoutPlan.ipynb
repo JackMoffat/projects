{
 "cells": [
  {
   "cell_type": "code",
   "execution_count": 2,
   "metadata": {},
   "outputs": [],
   "source": [
    "import numpy as np\n",
    "import csv\n",
    "from collections import defaultdict\n",
    "\n"
   ]
  },
  {
   "cell_type": "code",
   "execution_count": 3,
   "metadata": {},
   "outputs": [],
   "source": [
    "# This section creates the dictionary 'Exercises' that has the day names as keys, and the list of exercises for that day as the value\n",
    "def build_week(sheet = 'ExerciseList.csv'):\n",
    "    DayExSheet = sheet\n",
    "    DayExRead = csv.reader(DayExSheet, delimiter = ',')\n",
    "\n",
    "    Exercises = defaultdict(list)\n",
    "    daynames = []\n",
    "\n",
    "    for row in DayExRead:\n",
    "        daynames.append(row[0])\n",
    "        Exercises[daynames[-1]] = row[1:]\n",
    "    \n",
    "    \n",
    "WeekParamSheet = open('WeekParameters.csv')\n",
    "WeekParRead = csv.reader(WeekParamSheet, delimiter = \",\")\n",
    "\n"
   ]
  },
  {
   "cell_type": "code",
   "execution_count": null,
   "metadata": {},
   "outputs": [],
   "source": []
  },
  {
   "cell_type": "code",
   "execution_count": 8,
   "metadata": {},
   "outputs": [],
   "source": [
    "class Week:\n",
    "    \"\"\"Creates and defines the week\n",
    "    \n",
    "    attributes: main sets, support sets, rest times, intensity\n",
    "    \"\"\"\n",
    "\n",
    "    def __init__(self, )\n",
    "    \n",
    "    "
   ]
  },
  {
   "cell_type": "code",
   "execution_count": 6,
   "metadata": {},
   "outputs": [],
   "source": [
    "def viewer():\n",
    "    x = str(input(\"Enter day you want information on (\"+str(daynames)+\")\\n\"))\n",
    "    y = '%s' % x\n",
    "    z = Exercises[y]\n",
    "    print(y + ':' + str(z))\n"
   ]
  },
  {
   "cell_type": "code",
   "execution_count": 7,
   "metadata": {},
   "outputs": [
    {
     "name": "stdout",
     "output_type": "stream",
     "text": [
      "Day 3:['military press', 'pallof press', 'dead bench', 'board press', 'band rotations']\n"
     ]
    }
   ],
   "source": [
    "viewer()"
   ]
  }
 ],
 "metadata": {
  "kernelspec": {
   "display_name": "Python 3",
   "language": "python",
   "name": "python3"
  },
  "language_info": {
   "codemirror_mode": {
    "name": "ipython",
    "version": 3
   },
   "file_extension": ".py",
   "mimetype": "text/x-python",
   "name": "python",
   "nbconvert_exporter": "python",
   "pygments_lexer": "ipython3",
   "version": "3.6.4"
  }
 },
 "nbformat": 4,
 "nbformat_minor": 2
}
